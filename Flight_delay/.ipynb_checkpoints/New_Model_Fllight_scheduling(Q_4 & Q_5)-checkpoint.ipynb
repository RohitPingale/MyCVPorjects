{
 "cells": [
  {
   "cell_type": "markdown",
   "metadata": {},
   "source": [
    "## Q4) & Q5) Conclude the analysis by fittinga new model on these selectedvariables and reportthe same. Report the accuracy"
   ]
  },
  {
   "cell_type": "code",
   "execution_count": 20,
   "metadata": {},
   "outputs": [],
   "source": [
    "import pandas as pd\n",
    "import numpy as np\n",
    "import seaborn as sns\n",
    "import matplotlib.pyplot as plt\n",
    "from sklearn.preprocessing import LabelEncoder\n",
    "from sklearn.model_selection import train_test_split\n",
    "from sklearn.linear_model import LogisticRegression\n",
    "from sklearn.metrics import confusion_matrix\n",
    "from sklearn.metrics import accuracy_score\n",
    "from sklearn.preprocessing import MinMaxScaler\n",
    "from sklearn.feature_selection import SelectFromModel\n",
    "from sklearn.feature_selection import RFE\n",
    "\n",
    "%matplotlib notebook"
   ]
  },
  {
   "cell_type": "markdown",
   "metadata": {},
   "source": [
    "### Removing unncessary columns \n",
    "**TAIL_NUM = No Uniuqe information is encoded in the TAIL_NUM, the FL_Num fullfill that gap.** \n",
    "\n",
    "**FL_DATE = No Uniuqe information is encoded in the FL_DATE, the DAY_OF_MONTH fullfill that gap.**"
   ]
  },
  {
   "cell_type": "code",
   "execution_count": 21,
   "metadata": {},
   "outputs": [
    {
     "data": {
      "text/html": [
       "<div>\n",
       "<style scoped>\n",
       "    .dataframe tbody tr th:only-of-type {\n",
       "        vertical-align: middle;\n",
       "    }\n",
       "\n",
       "    .dataframe tbody tr th {\n",
       "        vertical-align: top;\n",
       "    }\n",
       "\n",
       "    .dataframe thead th {\n",
       "        text-align: right;\n",
       "    }\n",
       "</style>\n",
       "<table border=\"1\" class=\"dataframe\">\n",
       "  <thead>\n",
       "    <tr style=\"text-align: right;\">\n",
       "      <th></th>\n",
       "      <th>CRS_DEP_TIME</th>\n",
       "      <th>CARRIER</th>\n",
       "      <th>DEP_TIME</th>\n",
       "      <th>DEST</th>\n",
       "      <th>DISTANCE</th>\n",
       "      <th>FL_NUM</th>\n",
       "      <th>ORIGIN</th>\n",
       "      <th>Weather</th>\n",
       "      <th>DAY_WEEK</th>\n",
       "      <th>DAY_OF_MONTH</th>\n",
       "      <th>Flight Status</th>\n",
       "    </tr>\n",
       "  </thead>\n",
       "  <tbody>\n",
       "    <tr>\n",
       "      <th>0</th>\n",
       "      <td>1455</td>\n",
       "      <td>OH</td>\n",
       "      <td>1455</td>\n",
       "      <td>JFK</td>\n",
       "      <td>184</td>\n",
       "      <td>5935</td>\n",
       "      <td>BWI</td>\n",
       "      <td>0</td>\n",
       "      <td>4</td>\n",
       "      <td>1</td>\n",
       "      <td>ontime</td>\n",
       "    </tr>\n",
       "    <tr>\n",
       "      <th>1</th>\n",
       "      <td>1640</td>\n",
       "      <td>DH</td>\n",
       "      <td>1640</td>\n",
       "      <td>JFK</td>\n",
       "      <td>213</td>\n",
       "      <td>6155</td>\n",
       "      <td>DCA</td>\n",
       "      <td>0</td>\n",
       "      <td>4</td>\n",
       "      <td>1</td>\n",
       "      <td>ontime</td>\n",
       "    </tr>\n",
       "    <tr>\n",
       "      <th>2</th>\n",
       "      <td>1245</td>\n",
       "      <td>DH</td>\n",
       "      <td>1245</td>\n",
       "      <td>LGA</td>\n",
       "      <td>229</td>\n",
       "      <td>7208</td>\n",
       "      <td>IAD</td>\n",
       "      <td>0</td>\n",
       "      <td>4</td>\n",
       "      <td>1</td>\n",
       "      <td>ontime</td>\n",
       "    </tr>\n",
       "    <tr>\n",
       "      <th>3</th>\n",
       "      <td>1715</td>\n",
       "      <td>DH</td>\n",
       "      <td>1709</td>\n",
       "      <td>LGA</td>\n",
       "      <td>229</td>\n",
       "      <td>7215</td>\n",
       "      <td>IAD</td>\n",
       "      <td>0</td>\n",
       "      <td>4</td>\n",
       "      <td>1</td>\n",
       "      <td>ontime</td>\n",
       "    </tr>\n",
       "    <tr>\n",
       "      <th>4</th>\n",
       "      <td>1039</td>\n",
       "      <td>DH</td>\n",
       "      <td>1035</td>\n",
       "      <td>LGA</td>\n",
       "      <td>229</td>\n",
       "      <td>7792</td>\n",
       "      <td>IAD</td>\n",
       "      <td>0</td>\n",
       "      <td>4</td>\n",
       "      <td>1</td>\n",
       "      <td>ontime</td>\n",
       "    </tr>\n",
       "  </tbody>\n",
       "</table>\n",
       "</div>"
      ],
      "text/plain": [
       "   CRS_DEP_TIME CARRIER  DEP_TIME DEST  DISTANCE  FL_NUM ORIGIN  Weather  \\\n",
       "0          1455      OH      1455  JFK       184    5935    BWI        0   \n",
       "1          1640      DH      1640  JFK       213    6155    DCA        0   \n",
       "2          1245      DH      1245  LGA       229    7208    IAD        0   \n",
       "3          1715      DH      1709  LGA       229    7215    IAD        0   \n",
       "4          1039      DH      1035  LGA       229    7792    IAD        0   \n",
       "\n",
       "   DAY_WEEK  DAY_OF_MONTH Flight Status  \n",
       "0         4             1        ontime  \n",
       "1         4             1        ontime  \n",
       "2         4             1        ontime  \n",
       "3         4             1        ontime  \n",
       "4         4             1        ontime  "
      ]
     },
     "execution_count": 21,
     "metadata": {},
     "output_type": "execute_result"
    }
   ],
   "source": [
    "dataset=pd.read_csv('FlightDelays.csv')\n",
    "LE = LabelEncoder()\n",
    "dataset = dataset.drop(['FL_DATE','TAIL_NUM'],axis = 1)\n",
    "dataset.head()"
   ]
  },
  {
   "cell_type": "code",
   "execution_count": 22,
   "metadata": {},
   "outputs": [
    {
     "data": {
      "text/html": [
       "<div>\n",
       "<style scoped>\n",
       "    .dataframe tbody tr th:only-of-type {\n",
       "        vertical-align: middle;\n",
       "    }\n",
       "\n",
       "    .dataframe tbody tr th {\n",
       "        vertical-align: top;\n",
       "    }\n",
       "\n",
       "    .dataframe thead th {\n",
       "        text-align: right;\n",
       "    }\n",
       "</style>\n",
       "<table border=\"1\" class=\"dataframe\">\n",
       "  <thead>\n",
       "    <tr style=\"text-align: right;\">\n",
       "      <th></th>\n",
       "      <th>CRS_DEP_TIME</th>\n",
       "      <th>DEP_TIME</th>\n",
       "      <th>DISTANCE</th>\n",
       "      <th>FL_NUM</th>\n",
       "      <th>Weather</th>\n",
       "      <th>DAY_WEEK</th>\n",
       "      <th>DAY_OF_MONTH</th>\n",
       "      <th>DH</th>\n",
       "      <th>DL</th>\n",
       "      <th>MQ</th>\n",
       "      <th>OH</th>\n",
       "      <th>RU</th>\n",
       "      <th>UA</th>\n",
       "      <th>US</th>\n",
       "      <th>JFK</th>\n",
       "      <th>LGA</th>\n",
       "      <th>DCA</th>\n",
       "      <th>IAD</th>\n",
       "      <th>ontime</th>\n",
       "    </tr>\n",
       "  </thead>\n",
       "  <tbody>\n",
       "    <tr>\n",
       "      <th>0</th>\n",
       "      <td>1455</td>\n",
       "      <td>1455</td>\n",
       "      <td>184</td>\n",
       "      <td>5935</td>\n",
       "      <td>0</td>\n",
       "      <td>4</td>\n",
       "      <td>1</td>\n",
       "      <td>0</td>\n",
       "      <td>0</td>\n",
       "      <td>0</td>\n",
       "      <td>1</td>\n",
       "      <td>0</td>\n",
       "      <td>0</td>\n",
       "      <td>0</td>\n",
       "      <td>1</td>\n",
       "      <td>0</td>\n",
       "      <td>0</td>\n",
       "      <td>0</td>\n",
       "      <td>1</td>\n",
       "    </tr>\n",
       "    <tr>\n",
       "      <th>1</th>\n",
       "      <td>1640</td>\n",
       "      <td>1640</td>\n",
       "      <td>213</td>\n",
       "      <td>6155</td>\n",
       "      <td>0</td>\n",
       "      <td>4</td>\n",
       "      <td>1</td>\n",
       "      <td>1</td>\n",
       "      <td>0</td>\n",
       "      <td>0</td>\n",
       "      <td>0</td>\n",
       "      <td>0</td>\n",
       "      <td>0</td>\n",
       "      <td>0</td>\n",
       "      <td>1</td>\n",
       "      <td>0</td>\n",
       "      <td>1</td>\n",
       "      <td>0</td>\n",
       "      <td>1</td>\n",
       "    </tr>\n",
       "    <tr>\n",
       "      <th>2</th>\n",
       "      <td>1245</td>\n",
       "      <td>1245</td>\n",
       "      <td>229</td>\n",
       "      <td>7208</td>\n",
       "      <td>0</td>\n",
       "      <td>4</td>\n",
       "      <td>1</td>\n",
       "      <td>1</td>\n",
       "      <td>0</td>\n",
       "      <td>0</td>\n",
       "      <td>0</td>\n",
       "      <td>0</td>\n",
       "      <td>0</td>\n",
       "      <td>0</td>\n",
       "      <td>0</td>\n",
       "      <td>1</td>\n",
       "      <td>0</td>\n",
       "      <td>1</td>\n",
       "      <td>1</td>\n",
       "    </tr>\n",
       "    <tr>\n",
       "      <th>3</th>\n",
       "      <td>1715</td>\n",
       "      <td>1709</td>\n",
       "      <td>229</td>\n",
       "      <td>7215</td>\n",
       "      <td>0</td>\n",
       "      <td>4</td>\n",
       "      <td>1</td>\n",
       "      <td>1</td>\n",
       "      <td>0</td>\n",
       "      <td>0</td>\n",
       "      <td>0</td>\n",
       "      <td>0</td>\n",
       "      <td>0</td>\n",
       "      <td>0</td>\n",
       "      <td>0</td>\n",
       "      <td>1</td>\n",
       "      <td>0</td>\n",
       "      <td>1</td>\n",
       "      <td>1</td>\n",
       "    </tr>\n",
       "    <tr>\n",
       "      <th>4</th>\n",
       "      <td>1039</td>\n",
       "      <td>1035</td>\n",
       "      <td>229</td>\n",
       "      <td>7792</td>\n",
       "      <td>0</td>\n",
       "      <td>4</td>\n",
       "      <td>1</td>\n",
       "      <td>1</td>\n",
       "      <td>0</td>\n",
       "      <td>0</td>\n",
       "      <td>0</td>\n",
       "      <td>0</td>\n",
       "      <td>0</td>\n",
       "      <td>0</td>\n",
       "      <td>0</td>\n",
       "      <td>1</td>\n",
       "      <td>0</td>\n",
       "      <td>1</td>\n",
       "      <td>1</td>\n",
       "    </tr>\n",
       "  </tbody>\n",
       "</table>\n",
       "</div>"
      ],
      "text/plain": [
       "   CRS_DEP_TIME  DEP_TIME  DISTANCE  FL_NUM  Weather  DAY_WEEK  DAY_OF_MONTH  \\\n",
       "0          1455      1455       184    5935        0         4             1   \n",
       "1          1640      1640       213    6155        0         4             1   \n",
       "2          1245      1245       229    7208        0         4             1   \n",
       "3          1715      1709       229    7215        0         4             1   \n",
       "4          1039      1035       229    7792        0         4             1   \n",
       "\n",
       "   DH  DL  MQ  OH  RU  UA  US  JFK  LGA  DCA  IAD  ontime  \n",
       "0   0   0   0   1   0   0   0    1    0    0    0       1  \n",
       "1   1   0   0   0   0   0   0    1    0    1    0       1  \n",
       "2   1   0   0   0   0   0   0    0    1    0    1       1  \n",
       "3   1   0   0   0   0   0   0    0    1    0    1       1  \n",
       "4   1   0   0   0   0   0   0    0    1    0    1       1  "
      ]
     },
     "execution_count": 22,
     "metadata": {},
     "output_type": "execute_result"
    }
   ],
   "source": [
    "carrier=pd.get_dummies(dataset['CARRIER'],drop_first=True)\n",
    "destination=pd.get_dummies(dataset['DEST'],drop_first=True)\n",
    "origin=pd.get_dummies(dataset['ORIGIN'],drop_first=True)\n",
    "Flight_status=pd.get_dummies(dataset['Flight Status'],drop_first=True)\n",
    "\n",
    "Finaldataset = dataset.drop(['CARRIER','DEST','ORIGIN','Flight Status'],axis=1)\n",
    "Finaldataset = pd.concat([Finaldataset,carrier,destination,origin,Flight_status],axis=1)\n",
    "\n",
    "Finaldataset.head()"
   ]
  },
  {
   "cell_type": "code",
   "execution_count": 23,
   "metadata": {},
   "outputs": [
    {
     "data": {
      "text/plain": [
       "Index(['CRS_DEP_TIME', 'DEP_TIME', 'DISTANCE', 'FL_NUM', 'Weather', 'DAY_WEEK',\n",
       "       'DAY_OF_MONTH', 'DH', 'DL', 'MQ', 'OH', 'RU', 'UA', 'US', 'JFK', 'LGA',\n",
       "       'DCA', 'IAD'],\n",
       "      dtype='object')"
      ]
     },
     "execution_count": 23,
     "metadata": {},
     "output_type": "execute_result"
    }
   ],
   "source": [
    "Finaldataset.drop(['ontime'],axis =1).columns"
   ]
  },
  {
   "cell_type": "code",
   "execution_count": 24,
   "metadata": {},
   "outputs": [
    {
     "name": "stdout",
     "output_type": "stream",
     "text": [
      "[1 1 1 ... 1 1 1]\n"
     ]
    }
   ],
   "source": [
    "x_total = Finaldataset.drop(['ontime'],axis =1).values\n",
    "y = Finaldataset['ontime'].values\n",
    "print(y)"
   ]
  },
  {
   "cell_type": "code",
   "execution_count": 25,
   "metadata": {},
   "outputs": [],
   "source": [
    "xtrain,xtest,ytrain,ytest = train_test_split(x_total,y,test_size=0.4,random_state=42)"
   ]
  },
  {
   "cell_type": "code",
   "execution_count": 26,
   "metadata": {},
   "outputs": [],
   "source": [
    "def Logistic_Regression(xtrain,xtest,ytrain,ytest):\n",
    "    model = LogisticRegression(random_state=0, max_iter = 1000)\n",
    "    model.fit(xtrain,ytrain)\n",
    "    predictions = model.predict(xtest)\n",
    "    accuracy = confusion_matrix(ytest,predictions)\n",
    "    print(model.coef_ )\n",
    "    print(model.intercept_)\n",
    "    print(accuracy_score(ytest,predictions))\n",
    "    return model"
   ]
  },
  {
   "cell_type": "code",
   "execution_count": 27,
   "metadata": {},
   "outputs": [
    {
     "name": "stdout",
     "output_type": "stream",
     "text": [
      "[[ 2.30607842e-02 -2.36838080e-02  1.07909141e-02  8.88192493e-05\n",
      "  -8.22280652e-01  7.09097630e-02 -2.54042677e-02  4.66360361e-03\n",
      "   6.79125220e-01 -9.58796708e-01  4.52650384e-01  3.09780086e-02\n",
      "   3.49260862e-02  3.86232365e-01  3.67768044e-01 -6.26845997e-02\n",
      "  -1.37832142e-01 -5.27690430e-01]]\n",
      "[0.13739832]\n",
      "0.8967082860385925\n"
     ]
    }
   ],
   "source": [
    "LRmodel = Logistic_Regression(xtrain,xtest,ytrain,ytest)\n",
    "\n",
    "selector = RFE(LRmodel,n_features_to_select = 1)\n",
    "selector = selector.fit(xtrain,ytrain)"
   ]
  },
  {
   "cell_type": "code",
   "execution_count": 33,
   "metadata": {},
   "outputs": [],
   "source": [
    "order =  selector.ranking_"
   ]
  },
  {
   "cell_type": "code",
   "execution_count": 34,
   "metadata": {
    "scrolled": true
   },
   "outputs": [],
   "source": [
    "featurelist = {}\n",
    "for rank,col in zip(order,Finaldataset.columns):\n",
    "    featurelist.update({rank:col})"
   ]
  },
  {
   "cell_type": "code",
   "execution_count": 35,
   "metadata": {},
   "outputs": [
    {
     "data": {
      "text/plain": [
       "{1: 'Weather',\n",
       " 2: 'US',\n",
       " 3: 'OH',\n",
       " 4: 'DL',\n",
       " 5: 'UA',\n",
       " 6: 'JFK',\n",
       " 7: 'LGA',\n",
       " 8: 'RU',\n",
       " 9: 'MQ',\n",
       " 10: 'DCA',\n",
       " 11: 'DAY_WEEK',\n",
       " 12: 'DH',\n",
       " 13: 'DAY_OF_MONTH',\n",
       " 14: 'DEP_TIME',\n",
       " 15: 'CRS_DEP_TIME',\n",
       " 16: 'IAD',\n",
       " 17: 'DISTANCE',\n",
       " 18: 'FL_NUM'}"
      ]
     },
     "execution_count": 35,
     "metadata": {},
     "output_type": "execute_result"
    }
   ],
   "source": [
    "dict(sorted(featurelist.items()))"
   ]
  },
  {
   "cell_type": "code",
   "execution_count": 36,
   "metadata": {},
   "outputs": [],
   "source": [
    "x_selected = Finaldataset.drop(['US','FL_NUM','DISTANCE','ontime'],axis =1).values\n",
    "# x_selected.head()"
   ]
  },
  {
   "cell_type": "code",
   "execution_count": 37,
   "metadata": {},
   "outputs": [
    {
     "name": "stdout",
     "output_type": "stream",
     "text": [
      "[[ 0.02289394 -0.02348228 -1.96300432  0.06162317 -0.02283404  0.44550027\n",
      "   0.20347054 -0.76993711  1.07451584 -0.03262621  0.29868589  0.61779866\n",
      "   0.39697302  0.12836278 -0.33814262]]\n",
      "[2.22527214]\n",
      "0.8989784335981839\n"
     ]
    }
   ],
   "source": [
    "x_train,x_test,y_train,y_test = train_test_split(x_selected,y,test_size=0.4,random_state=42)\n",
    "\n",
    "selected_LRmodel = Logistic_Regression(x_train,x_test,y_train,y_test)"
   ]
  },
  {
   "cell_type": "markdown",
   "metadata": {},
   "source": [
    "## Q6) Find the ideal weather conditions for the highest chance of an ontime flightfrom DC to New York . (weather, time, day, carrier)\n"
   ]
  },
  {
   "cell_type": "markdown",
   "metadata": {},
   "source": [
    "**ANS = In the Report (according of analysis of the  barplot and  boxplots) \\\n",
    "The best flights  from DC to NY are shown below**"
   ]
  },
  {
   "cell_type": "code",
   "execution_count": 45,
   "metadata": {},
   "outputs": [
    {
     "data": {
      "text/html": [
       "<div>\n",
       "<style scoped>\n",
       "    .dataframe tbody tr th:only-of-type {\n",
       "        vertical-align: middle;\n",
       "    }\n",
       "\n",
       "    .dataframe tbody tr th {\n",
       "        vertical-align: top;\n",
       "    }\n",
       "\n",
       "    .dataframe thead th {\n",
       "        text-align: right;\n",
       "    }\n",
       "</style>\n",
       "<table border=\"1\" class=\"dataframe\">\n",
       "  <thead>\n",
       "    <tr style=\"text-align: right;\">\n",
       "      <th></th>\n",
       "      <th>CRS_DEP_TIME</th>\n",
       "      <th>CARRIER</th>\n",
       "      <th>DEP_TIME</th>\n",
       "      <th>DEST</th>\n",
       "      <th>DISTANCE</th>\n",
       "      <th>FL_NUM</th>\n",
       "      <th>ORIGIN</th>\n",
       "      <th>Weather</th>\n",
       "      <th>DAY_WEEK</th>\n",
       "      <th>DAY_OF_MONTH</th>\n",
       "      <th>Flight Status</th>\n",
       "    </tr>\n",
       "  </thead>\n",
       "  <tbody>\n",
       "    <tr>\n",
       "      <th>141</th>\n",
       "      <td>1300</td>\n",
       "      <td>US</td>\n",
       "      <td>1256</td>\n",
       "      <td>LGA</td>\n",
       "      <td>214</td>\n",
       "      <td>2172</td>\n",
       "      <td>DCA</td>\n",
       "      <td>0</td>\n",
       "      <td>6</td>\n",
       "      <td>3</td>\n",
       "      <td>ontime</td>\n",
       "    </tr>\n",
       "    <tr>\n",
       "      <th>670</th>\n",
       "      <td>1300</td>\n",
       "      <td>US</td>\n",
       "      <td>1256</td>\n",
       "      <td>LGA</td>\n",
       "      <td>214</td>\n",
       "      <td>2172</td>\n",
       "      <td>DCA</td>\n",
       "      <td>0</td>\n",
       "      <td>6</td>\n",
       "      <td>10</td>\n",
       "      <td>ontime</td>\n",
       "    </tr>\n",
       "    <tr>\n",
       "      <th>1189</th>\n",
       "      <td>1300</td>\n",
       "      <td>US</td>\n",
       "      <td>1259</td>\n",
       "      <td>LGA</td>\n",
       "      <td>214</td>\n",
       "      <td>2172</td>\n",
       "      <td>DCA</td>\n",
       "      <td>0</td>\n",
       "      <td>6</td>\n",
       "      <td>17</td>\n",
       "      <td>ontime</td>\n",
       "    </tr>\n",
       "    <tr>\n",
       "      <th>1712</th>\n",
       "      <td>1300</td>\n",
       "      <td>US</td>\n",
       "      <td>1259</td>\n",
       "      <td>LGA</td>\n",
       "      <td>214</td>\n",
       "      <td>2172</td>\n",
       "      <td>DCA</td>\n",
       "      <td>0</td>\n",
       "      <td>6</td>\n",
       "      <td>24</td>\n",
       "      <td>ontime</td>\n",
       "    </tr>\n",
       "    <tr>\n",
       "      <th>2180</th>\n",
       "      <td>1300</td>\n",
       "      <td>US</td>\n",
       "      <td>1256</td>\n",
       "      <td>LGA</td>\n",
       "      <td>214</td>\n",
       "      <td>2172</td>\n",
       "      <td>DCA</td>\n",
       "      <td>0</td>\n",
       "      <td>6</td>\n",
       "      <td>31</td>\n",
       "      <td>ontime</td>\n",
       "    </tr>\n",
       "  </tbody>\n",
       "</table>\n",
       "</div>"
      ],
      "text/plain": [
       "      CRS_DEP_TIME CARRIER  DEP_TIME DEST  DISTANCE  FL_NUM ORIGIN  Weather  \\\n",
       "141           1300      US      1256  LGA       214    2172    DCA        0   \n",
       "670           1300      US      1256  LGA       214    2172    DCA        0   \n",
       "1189          1300      US      1259  LGA       214    2172    DCA        0   \n",
       "1712          1300      US      1259  LGA       214    2172    DCA        0   \n",
       "2180          1300      US      1256  LGA       214    2172    DCA        0   \n",
       "\n",
       "      DAY_WEEK  DAY_OF_MONTH Flight Status  \n",
       "141          6             3        ontime  \n",
       "670          6            10        ontime  \n",
       "1189         6            17        ontime  \n",
       "1712         6            24        ontime  \n",
       "2180         6            31        ontime  "
      ]
     },
     "execution_count": 45,
     "metadata": {},
     "output_type": "execute_result"
    }
   ],
   "source": [
    "dataset[(dataset['Weather'] == 0) & (dataset['DAY_WEEK'] == 6) & (dataset['CARRIER'] == 'US') & (dataset['CRS_DEP_TIME'] == 1300)]"
   ]
  },
  {
   "cell_type": "code",
   "execution_count": null,
   "metadata": {},
   "outputs": [],
   "source": []
  }
 ],
 "metadata": {
  "kernelspec": {
   "display_name": "Python 3",
   "language": "python",
   "name": "python3"
  },
  "language_info": {
   "codemirror_mode": {
    "name": "ipython",
    "version": 3
   },
   "file_extension": ".py",
   "mimetype": "text/x-python",
   "name": "python",
   "nbconvert_exporter": "python",
   "pygments_lexer": "ipython3",
   "version": "3.7.3"
  }
 },
 "nbformat": 4,
 "nbformat_minor": 4
}
